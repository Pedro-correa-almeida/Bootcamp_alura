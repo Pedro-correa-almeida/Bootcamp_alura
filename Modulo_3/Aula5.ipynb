{
 "cells": [
  {
   "cell_type": "markdown",
   "id": "6edc1fed-99d0-46f0-9f2d-70823ec141a6",
   "metadata": {},
   "source": [
    "# Aula 5"
   ]
  },
  {
   "cell_type": "code",
   "execution_count": 1,
   "id": "f66d921d-5d33-40d2-9b1d-2d529464b528",
   "metadata": {},
   "outputs": [],
   "source": [
    "import pandas as pd\n",
    "from func import Modelo_prophet_semanal"
   ]
  },
  {
   "cell_type": "code",
   "execution_count": 5,
   "id": "a0374342-0df0-4066-8234-653274ece75d",
   "metadata": {},
   "outputs": [],
   "source": [
    "dados_sp = pd.read_csv('dados/dados_covid_sp', parse_dates=['datahora'])"
   ]
  },
  {
   "cell_type": "code",
   "execution_count": 6,
   "id": "4471eeee-cec2-43fa-9728-89884bda843d",
   "metadata": {},
   "outputs": [
    {
     "data": {
      "text/html": [
       "<div>\n",
       "<style scoped>\n",
       "    .dataframe tbody tr th:only-of-type {\n",
       "        vertical-align: middle;\n",
       "    }\n",
       "\n",
       "    .dataframe tbody tr th {\n",
       "        vertical-align: top;\n",
       "    }\n",
       "\n",
       "    .dataframe thead th {\n",
       "        text-align: right;\n",
       "    }\n",
       "</style>\n",
       "<table border=\"1\" class=\"dataframe\">\n",
       "  <thead>\n",
       "    <tr style=\"text-align: right;\">\n",
       "      <th></th>\n",
       "      <th>ds</th>\n",
       "      <th>y</th>\n",
       "    </tr>\n",
       "  </thead>\n",
       "  <tbody>\n",
       "    <tr>\n",
       "      <th>0</th>\n",
       "      <td>2020-02-25</td>\n",
       "      <td>0</td>\n",
       "    </tr>\n",
       "    <tr>\n",
       "      <th>1</th>\n",
       "      <td>2020-02-26</td>\n",
       "      <td>0</td>\n",
       "    </tr>\n",
       "    <tr>\n",
       "      <th>2</th>\n",
       "      <td>2020-02-27</td>\n",
       "      <td>0</td>\n",
       "    </tr>\n",
       "    <tr>\n",
       "      <th>3</th>\n",
       "      <td>2020-02-28</td>\n",
       "      <td>1</td>\n",
       "    </tr>\n",
       "    <tr>\n",
       "      <th>4</th>\n",
       "      <td>2020-02-29</td>\n",
       "      <td>0</td>\n",
       "    </tr>\n",
       "  </tbody>\n",
       "</table>\n",
       "</div>"
      ],
      "text/plain": [
       "          ds  y\n",
       "0 2020-02-25  0\n",
       "1 2020-02-26  0\n",
       "2 2020-02-27  0\n",
       "3 2020-02-28  1\n",
       "4 2020-02-29  0"
      ]
     },
     "execution_count": 6,
     "metadata": {},
     "output_type": "execute_result"
    }
   ],
   "source": [
    "df = dados_sp[['datahora', 'casos_novos']]\n",
    "df.columns = ['ds', 'y']\n",
    "df.head()"
   ]
  },
  {
   "cell_type": "code",
   "execution_count": 7,
   "id": "e6a5dcab-19ab-4478-8f53-f5b33e01c9ea",
   "metadata": {},
   "outputs": [],
   "source": [
    "feriados_sp_2020 = [\n",
    "'2020-02-25',\n",
    "'2020-02-26',\n",
    "'2020-04-10',\n",
    "'2020-02-25',\n",
    "'2020-02-26',\n",
    "'2020-04-10',\n",
    "'2020-04-21',\n",
    "'2020-05-01',\n",
    "'2020-05-20',\n",
    "'2020-05-21', \n",
    "'2020-05-22',\n",
    "'2020-05-25',\n",
    "'2020-06-11',\n",
    "'2020-09-07',\n",
    "'2020-10-12',\n",
    "'2020-11-02',\n",
    "'2020-11-15',\n",
    "'2020-12-25'\n",
    "]\n",
    "\n",
    "feriados_sp_2021 = [\n",
    "'2021-01-01',\n",
    "'2021-01-25',\n",
    "'2021-02-15',\n",
    "'2021-02-16',\n",
    "'2021-02-17',\n",
    "'2021-03-26',\n",
    "'2021-03-29',\n",
    "'2021-03-30',\n",
    "'2021-03-31',\n",
    "'2021-04-01',\n",
    "'2021-04-02',\n",
    "'2021-04-21',\n",
    "'2021-05-01'\n",
    "]\n",
    "\n",
    "#Adicionando as listas ao DataFrame \n",
    "feriados_sp_2020 = pd.DataFrame({\n",
    "  'holiday': 'sp_2020',\n",
    "  'ds': pd.to_datetime(feriados_sp_2020)\n",
    "})\n",
    "\n",
    "feriados_sp_2021 = pd.DataFrame({\n",
    "  'holiday': 'sp_2021',\n",
    "  'ds': pd.to_datetime(feriados_sp_2021)\n",
    "})\n",
    "\n",
    "feriados = pd.concat((feriados_sp_2020, feriados_sp_2021)) #união das informações"
   ]
  },
  {
   "cell_type": "code",
   "execution_count": 9,
   "id": "671ff126-6de8-4625-b7b3-31c29c9026c5",
   "metadata": {},
   "outputs": [],
   "source": [
    "modelo = Modelo_prophet_semanal(df, changepoint_prior_scale=10, seasonality_mode='multiplicative', holidays=feriados, interval_width=0.95)"
   ]
  },
  {
   "cell_type": "markdown",
   "id": "afaec75e-0d76-4fe1-9ecf-ca6ea5849e4e",
   "metadata": {},
   "source": [
    "## Desafio 13: Testar diferentes intervalos de confiança."
   ]
  },
  {
   "cell_type": "code",
   "execution_count": null,
   "id": "9e600078-c880-486e-bfc1-23d1bac6ecfc",
   "metadata": {},
   "outputs": [],
   "source": [
    "for i in range(0.7, 0.95, )"
   ]
  },
  {
   "cell_type": "code",
   "execution_count": 8,
   "id": "4eaca4b9-b60a-43ff-9319-7b3bc4ecdff0",
   "metadata": {},
   "outputs": [
    {
     "name": "stderr",
     "output_type": "stream",
     "text": [
      "INFO:numexpr.utils:NumExpr defaulting to 4 threads.\n"
     ]
    }
   ],
   "source": [
    "modelo = Modelo_prophet_semanal(df, changepoint_prior_scale=10, seasonality_mode='multiplicative', holidays=feriados, interval_width=0.95)"
   ]
  },
  {
   "cell_type": "markdown",
   "id": "a8d816a0-f168-491b-90b6-529c5a428846",
   "metadata": {},
   "source": [
    "## Desafio 14: Buscar quais métricas se aplicam a quais casos."
   ]
  },
  {
   "cell_type": "code",
   "execution_count": null,
   "id": "1467c1e4-357b-466b-af52-6bbbace15c55",
   "metadata": {},
   "outputs": [],
   "source": []
  }
 ],
 "metadata": {
  "kernelspec": {
   "display_name": "Python 3",
   "language": "python",
   "name": "python3"
  },
  "language_info": {
   "codemirror_mode": {
    "name": "ipython",
    "version": 3
   },
   "file_extension": ".py",
   "mimetype": "text/x-python",
   "name": "python",
   "nbconvert_exporter": "python",
   "pygments_lexer": "ipython3",
   "version": "3.7.6"
  }
 },
 "nbformat": 4,
 "nbformat_minor": 5
}
