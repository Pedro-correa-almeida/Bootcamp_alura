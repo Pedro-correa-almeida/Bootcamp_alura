{
 "cells": [
  {
   "cell_type": "markdown",
   "metadata": {},
   "source": [
    "# Aula 6"
   ]
  },
  {
   "cell_type": "code",
   "execution_count": 1,
   "metadata": {},
   "outputs": [],
   "source": [
    "import pandas as pd\n",
    "import seaborn as sns\n",
    "import matplotlib.pyplot as plt"
   ]
  },
  {
   "cell_type": "code",
   "execution_count": 2,
   "metadata": {},
   "outputs": [
    {
     "data": {
      "text/html": [
       "<div>\n",
       "<style scoped>\n",
       "    .dataframe tbody tr th:only-of-type {\n",
       "        vertical-align: middle;\n",
       "    }\n",
       "\n",
       "    .dataframe tbody tr th {\n",
       "        vertical-align: top;\n",
       "    }\n",
       "\n",
       "    .dataframe thead th {\n",
       "        text-align: right;\n",
       "    }\n",
       "</style>\n",
       "<table border=\"1\" class=\"dataframe\">\n",
       "  <thead>\n",
       "    <tr style=\"text-align: right;\">\n",
       "      <th></th>\n",
       "      <th>data</th>\n",
       "      <th>uf</th>\n",
       "      <th>gasto</th>\n",
       "    </tr>\n",
       "  </thead>\n",
       "  <tbody>\n",
       "    <tr>\n",
       "      <th>0</th>\n",
       "      <td>2008-02-01</td>\n",
       "      <td>Rondônia</td>\n",
       "      <td>2931283.42</td>\n",
       "    </tr>\n",
       "    <tr>\n",
       "      <th>1</th>\n",
       "      <td>2008-03-01</td>\n",
       "      <td>Rondônia</td>\n",
       "      <td>1541682.52</td>\n",
       "    </tr>\n",
       "    <tr>\n",
       "      <th>2</th>\n",
       "      <td>2008-04-01</td>\n",
       "      <td>Rondônia</td>\n",
       "      <td>1525314.96</td>\n",
       "    </tr>\n",
       "    <tr>\n",
       "      <th>3</th>\n",
       "      <td>2008-05-01</td>\n",
       "      <td>Rondônia</td>\n",
       "      <td>1645953.84</td>\n",
       "    </tr>\n",
       "    <tr>\n",
       "      <th>4</th>\n",
       "      <td>2008-06-01</td>\n",
       "      <td>Rondônia</td>\n",
       "      <td>1406150.68</td>\n",
       "    </tr>\n",
       "    <tr>\n",
       "      <th>...</th>\n",
       "      <td>...</td>\n",
       "      <td>...</td>\n",
       "      <td>...</td>\n",
       "    </tr>\n",
       "    <tr>\n",
       "      <th>4261</th>\n",
       "      <td>2020-11-01</td>\n",
       "      <td>Distrito Federal</td>\n",
       "      <td>20459325.27</td>\n",
       "    </tr>\n",
       "    <tr>\n",
       "      <th>4262</th>\n",
       "      <td>2020-12-01</td>\n",
       "      <td>Distrito Federal</td>\n",
       "      <td>22991567.76</td>\n",
       "    </tr>\n",
       "    <tr>\n",
       "      <th>4263</th>\n",
       "      <td>2021-01-01</td>\n",
       "      <td>Distrito Federal</td>\n",
       "      <td>23527050.29</td>\n",
       "    </tr>\n",
       "    <tr>\n",
       "      <th>4264</th>\n",
       "      <td>2021-02-01</td>\n",
       "      <td>Distrito Federal</td>\n",
       "      <td>22766952.62</td>\n",
       "    </tr>\n",
       "    <tr>\n",
       "      <th>4265</th>\n",
       "      <td>2021-03-01</td>\n",
       "      <td>Distrito Federal</td>\n",
       "      <td>31831917.45</td>\n",
       "    </tr>\n",
       "  </tbody>\n",
       "</table>\n",
       "<p>4266 rows × 3 columns</p>\n",
       "</div>"
      ],
      "text/plain": [
       "           data                uf        gasto\n",
       "0    2008-02-01          Rondônia   2931283.42\n",
       "1    2008-03-01          Rondônia   1541682.52\n",
       "2    2008-04-01          Rondônia   1525314.96\n",
       "3    2008-05-01          Rondônia   1645953.84\n",
       "4    2008-06-01          Rondônia   1406150.68\n",
       "...         ...               ...          ...\n",
       "4261 2020-11-01  Distrito Federal  20459325.27\n",
       "4262 2020-12-01  Distrito Federal  22991567.76\n",
       "4263 2021-01-01  Distrito Federal  23527050.29\n",
       "4264 2021-02-01  Distrito Federal  22766952.62\n",
       "4265 2021-03-01  Distrito Federal  31831917.45\n",
       "\n",
       "[4266 rows x 3 columns]"
      ]
     },
     "execution_count": 2,
     "metadata": {},
     "output_type": "execute_result"
    }
   ],
   "source": [
    "mensal = pd.read_csv('https://raw.githubusercontent.com/Pedro-correa-almeida/Bootcamp_alura/main/Modulo_2/dados/dados_aula4', index_col=0, parse_dates=['data'])\n",
    "mensal"
   ]
  },
  {
   "cell_type": "code",
   "execution_count": null,
   "metadata": {},
   "outputs": [],
   "source": [
    "por_ano = mensal.groupby('ano')"
   ]
  }
 ],
 "metadata": {
  "kernelspec": {
   "display_name": "Python 3",
   "language": "python",
   "name": "python3"
  },
  "language_info": {
   "codemirror_mode": {
    "name": "ipython",
    "version": 3
   },
   "file_extension": ".py",
   "mimetype": "text/x-python",
   "name": "python",
   "nbconvert_exporter": "python",
   "pygments_lexer": "ipython3",
   "version": "3.7.6"
  }
 },
 "nbformat": 4,
 "nbformat_minor": 4
}
